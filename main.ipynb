{
 "cells": [
  {
   "cell_type": "markdown",
   "metadata": {},
   "source": [
    "## Correlation Between Political Parties and Subsidy Allocation in South Holland\n",
    "\n",
    "As a resident of the Province of South Holland, I am interested in exploring whether the coalition of certain political parties influences the allocation of subsidies. \n",
    "\n",
    "The Province of South Holland provides all its subsidy data as open data, which can be accessed here: [South Holland Subsidy Register](https://subsidieregister.zuid-holland.nl).\n",
    "\n",
    "### Objective\n",
    "With the assistance of ChatGPT, I aim to analyze whether spending patterns vary or can be correlated with the political party coalition currently in power.\n",
    "\n",
    "\n",
    "### Author\n",
    "Michael de Winter"
   ]
  },
  {
   "cell_type": "code",
   "execution_count": 17,
   "metadata": {},
   "outputs": [],
   "source": [
    "import requests\n",
    "import json\n",
    "import pandas as pd\n",
    "import matplotlib.pyplot as plt\n",
    "from matplotlib.patches import Patch \n",
    "import plotly.graph_objects as go\n",
    "import os.path"
   ]
  },
  {
   "cell_type": "code",
   "execution_count": null,
   "metadata": {},
   "outputs": [],
   "source": [
    "# From ChatGTP with map the year to the political coalition party which was then in power\n",
    "def map_parties(year):\n",
    "    if year >= 2023:\n",
    "        return \"BBB, VVD, GroenLinks, D66, PvdA, PVV\"\n",
    "    elif year >= 2019:\n",
    "        return \"Forum for Democracy (FvD), VVD, CDA, GroenLinks, D66\"\n",
    "    elif year >= 2015:\n",
    "        return \"VVD, CDA, D66, SP\"\n",
    "    elif year >= 2011:\n",
    "        return \"VVD, CDA, D66, PVV\"\n",
    "    elif year >= 2007:\n",
    "        return \"CDA, VVD, PvdA\"\n",
    "    elif year >= 2003:\n",
    "        return \"CDA, VVD, D66\"\n",
    "    elif year >= 1999:\n",
    "        return \"CDA, VVD, D66\"\n",
    "    elif year >= 1995:\n",
    "        return \"CDA, VVD, D66\"\n",
    "    else:\n",
    "        return \"CDA, PvdA, VVD\"\n",
    "    \n",
    "# Generalize the thema's of certain subsidies for normalization and comparison across year.\n",
    "# Mostly let ChatGTP come up with these thema's with additional checking from me.   \n",
    "def map_theme(category):\n",
    "    \"\"\"Determine the theme(s) for a given category using if statements.\"\"\"\n",
    "    themes = []\n",
    "\n",
    "    if category in [\n",
    "        '3.2 Verduurzaming gebouwde omgeving',       \n",
    "        '3.1 Schone en duurzame elektriciteitsvoorziening',\n",
    "        '3.3 Duurzaam energie-en grondstoffensysteem in de industrie'\n",
    "    ]:\n",
    "        themes.append('Duurzaamheid')\n",
    "\n",
    "    if category in [\n",
    "        '5.1 Gezonde natuur',\n",
    "        '5.3 Leven met water',\n",
    "        '7.1 Bevorderen verbetering milieukwaliteit en gezondheid',\n",
    "        '7.3 Klimaatbestendig Zuid-Holland'\n",
    "    ]:\n",
    "        themes.append('Natuur & Milieu')\n",
    "\n",
    "    if category in [\n",
    "        '2.1 Snel van A naar B',\n",
    "        '2.2 Beheer en onderhoud: op orde en duurzaam',\n",
    "        '2.1 Duurzame en veilige bereikbaarheid voor iedereen',\n",
    "        '2.3 Veilig en duurzaam'\n",
    "    ]:\n",
    "        themes.append('Mobiliteit')\n",
    "\n",
    "    if category in [\n",
    "        '4.3 Erfgoed, cultuur en toerisme',\n",
    "        '4.2 Erfgoed en Cultuur'\n",
    "    ]:\n",
    "        themes.append('Cultuur & Erfgoed')\n",
    "\n",
    "    if category in [\n",
    "        '4.1 Innovatie: richting duurzaam en digitaal',\n",
    "        '4.1 Toekomstbestendig economisch vestigingsklimaat',\n",
    "        '4.2 Creëren van een rijk vestigingsklimaat'\n",
    "    ]:\n",
    "        themes.append('Economie & Innovatie')\n",
    "\n",
    "    if category in [\n",
    "        '5.2 Toekomstbestendige landbouw',\n",
    "        '5.2 Transitie landbouw'\n",
    "    ]:\n",
    "        themes.append('Landbouw & Voedsel')\n",
    "\n",
    "    if category in [\n",
    "        '6.1 Voldoende juiste woningen op de juiste plek',\n",
    "        '6.1 Wonen'\n",
    "    ]:\n",
    "        themes.append('Wonen')\n",
    "\n",
    "    if category in [\n",
    "        '1.1 Beter bestuur',\n",
    "        '1.2 Sterke samenleving'\n",
    "    ]:\n",
    "        themes.append('Bestuur')\n",
    "\n",
    "    if category in [\n",
    "        \"6.3 Afspraken met regio's\",\n",
    "        '6.2 Vitaliteit en kwaliteit in de leefomgeving'\n",
    "    ]:\n",
    "        themes.append('Regionale Ontwikkeling')\n",
    "\n",
    "    if category in [\n",
    "        '7.2 Bevorderen recreatie duurzame toerisme en sport',\n",
    "        '7.2 Gezonde en bewegingsvriendelijke leefomgeving'\n",
    "    ]:\n",
    "        themes.append('Recreatie & Sport')\n",
    "\n",
    "    return \", \".join(themes) if themes else \"Onbekend Thema\""
   ]
  },
  {
   "cell_type": "code",
   "execution_count": 18,
   "metadata": {},
   "outputs": [],
   "source": [
    "load_previous = True"
   ]
  },
  {
   "cell_type": "code",
   "execution_count": 19,
   "metadata": {},
   "outputs": [],
   "source": [
    "# Fetch data from the API can be skipped if a parquet file is already found.\n",
    "if os.path.exists(\"subsidie_data_pzh.parquet\") and load_previous is True:\n",
    "\n",
    "    results = pd.read_parquet(\"subsidie_data_pzh.parquet\")\n",
    "\n",
    "else:\n",
    "    results = pd.DataFrame()    \n",
    "    for xi in range(1,json.loads(requests.get(\"https://subsidieregister.zuid-holland.nl/api/subsidies\").text)[\"paging\"]['totaalnrofpages']):\n",
    "        url = \"https://subsidieregister.zuid-holland.nl/api/subsidies?pageno=\"+str(xi)  # Replace with the actual URL\n",
    "        response = requests.get(url)\n",
    "\n",
    "        # Print the response content\n",
    "        print(\"Status Code:\", response.status_code)\n",
    "        print(\"Response Body:\", response.text)\n",
    "        data = json.loads(response.text)\n",
    "        results = pd.concat([results,pd.DataFrame(data['results'])])"
   ]
  },
  {
   "cell_type": "code",
   "execution_count": 22,
   "metadata": {},
   "outputs": [],
   "source": [
    "# Add the political coalition and a more generalized theme.\n",
    "results['partijen'] = results.apply(lambda x: map_parties(x.jaar), axis=1)\n",
    "results[\"Thema\"] = results.apply(lambda x: map_theme(x.doelstellingnaam), axis=1)"
   ]
  },
  {
   "cell_type": "code",
   "execution_count": 24,
   "metadata": {},
   "outputs": [],
   "source": [
    "# Group by based on parties, year and thema's for making bar charts\n",
    "df =results.groupby(['partijen','jaar', 'Thema']).agg(\n",
    "    total_subsidy=('verleendbedrag', 'sum'),\n",
    "    number_of_subsidies=('verleendbedrag', 'count')\n",
    ").reset_index()"
   ]
  },
  {
   "cell_type": "code",
   "execution_count": 11,
   "metadata": {},
   "outputs": [
    {
     "data": {
      "text/plain": [
       "array(['Bestuur', 'Cultuur & Erfgoed', 'Duurzaamheid',\n",
       "       'Economie & Innovatie', 'Landbouw & Voedsel', 'Mobiliteit',\n",
       "       'Natuur & Milieu', 'Recreatie & Sport', 'Regionale Ontwikkeling',\n",
       "       'Wonen'], dtype=object)"
      ]
     },
     "execution_count": 11,
     "metadata": {},
     "output_type": "execute_result"
    }
   ],
   "source": [
    "df['Thema'].unique()"
   ]
  },
  {
   "cell_type": "code",
   "execution_count": null,
   "metadata": {},
   "outputs": [
    {
     "name": "stderr",
     "output_type": "stream",
     "text": [
      "/var/folders/bn/flln7g490l75vv4q25m_pgfw0000gn/T/ipykernel_26199/2645765398.py:123: UserWarning: Tight layout not applied. The left and right margins cannot be made large enough to accommodate all Axes decorations.\n",
      "  plt.tight_layout()\n"
     ]
    },
    {
     "data": {
      "image/png": "[encoded data removed]",
      "text/plain": [
       "<Figure size 1200x1200 with 1 Axes>"
      ]
     },
     "metadata": {},
     "output_type": "display_data"
    }
   ],
   "source": [
    "# Create a 3D bar chart with the colours of the years for which political coalition was in charge and\n",
    "# x-axis: year which colour for political party, y-axis: the theme, z-axis: the total amount of granted subsidy.\n",
    "parties_colors = {\n",
    "    \"BBB, VVD, GroenLinks, D66, PvdA, PVV\":  \"#7deb34\",\n",
    "    \"Forum for Democracy (FvD), VVD, CDA, GroenLinks, D66\": \"#d6861e\",\n",
    "}\n",
    "\n",
    "\n",
    "theme_colors = {\n",
    "    'Bestuur': '#1f77b4',\n",
    "    'Cultuur & Erfgoed': '#ff7f0e',\n",
    "    'Duurzaamheid': '#2ca02c',\n",
    "    'Economie & Innovatie': '#d62728',\n",
    "    'Landbouw & Voedsel': '#9467bd',\n",
    "    'Mobiliteit': '#8c564b',\n",
    "    'Natuur & Milieu': '#e377c2',\n",
    "    'Regionale Ontwikkeling': '#7f7f7f',\n",
    "    'Wonen': '#bcbd22',\n",
    "    'Recreatie & Sport': '#17becf'\n",
    "}\n",
    "\n",
    "def get_theme_color(thema):\n",
    "    \"\"\"Return the color for a given Thema. Fallback to 'gray' if not in the dict.\"\"\"\n",
    "    return theme_colors.get(thema, 'gray')\n",
    "\n",
    "# -----------------------------------------------------------\n",
    "# 5) Convert jaar (X-axis) and Thema (Y-axis) to numeric idx\n",
    "# -----------------------------------------------------------\n",
    "unique_years = sorted(df['jaar'].unique())\n",
    "unique_themas = sorted(df['Thema'].unique())\n",
    "\n",
    "year_to_index = {year: i for i, year in enumerate(unique_years)}\n",
    "thema_to_index = {thema: i for i, thema in enumerate(unique_themas)}\n",
    "\n",
    "# -----------------------------------------------------------\n",
    "# 6) Create 3D plot\n",
    "# -----------------------------------------------------------\n",
    "fig = plt.figure(figsize=(12, 12))\n",
    "ax = fig.add_subplot(111, projection='3d')\n",
    "\n",
    "dx = 0.4\n",
    "dy = 0.4\n",
    "\n",
    "for _, row in df.iterrows():\n",
    "    x_index = year_to_index[row['jaar']]\n",
    "    y_index = thema_to_index[row['Thema']]\n",
    "    \n",
    "    z_lower = 0\n",
    "    z_height = row['total_subsidy']\n",
    "    \n",
    "    color = get_theme_color(row['Thema'])\n",
    "    \n",
    "    ax.bar3d(\n",
    "        x_index,  \n",
    "        y_index,  \n",
    "        z_lower,  \n",
    "        dx,       \n",
    "        dy,       \n",
    "        z_height, \n",
    "        color=color,\n",
    "        alpha=0.8\n",
    "    )\n",
    "\n",
    "# -----------------------------------------------------------\n",
    "# 7) Add Legend for Thema Colors\n",
    "# -----------------------------------------------------------\n",
    "legend_patches = [\n",
    "    Patch(facecolor=color, edgecolor='black', label=thema)\n",
    "    for thema, color in theme_colors.items()\n",
    "]\n",
    "\n",
    "\n",
    "# If there's any Thema not in theme_colors, show 'Other':\n",
    "if any(t not in theme_colors for t in df['Thema'].unique()):\n",
    "    legend_patches.append(Patch(facecolor='gray', edgecolor='black', label='Other'))\n",
    "\n",
    "\n",
    "party_legend_patches = [\n",
    "    Patch(facecolor=c, edgecolor='black', label=p)\n",
    "    for p, c in parties_colors.items()\n",
    "]\n",
    "\n",
    "legend_patches = legend_patches + party_legend_patches\n",
    "\n",
    "ax.legend(handles=legend_patches, loc='upper left', bbox_to_anchor=(1.0, 1.0))\n",
    "\n",
    "# -----------------------------------------------------------\n",
    "# 8) X-axis: Each Jaar in a color based on its parties\n",
    "# -----------------------------------------------------------\n",
    "x_labels = [str(year) for year in unique_years]\n",
    "\n",
    "ax.set_xticks(range(len(unique_years)))\n",
    "ax.set_xticklabels(x_labels)\n",
    "\n",
    "# Now color each x-tick label by the parties that apply to its year\n",
    "for i, tick_label in enumerate(ax.get_xticklabels()):\n",
    "    year = unique_years[i]\n",
    "    # Figure out which parties are associated with this year\n",
    "    party_str = map_parties(year)\n",
    "    # Look up the color (or default to black if not found)\n",
    "    color = parties_colors.get(party_str, \"black\")\n",
    "    tick_label.set_color(color)\n",
    "\n",
    "# (Optional) Add an extra legend for the parties color coding\n",
    "\n",
    "#ax.legend(\n",
    "#    handles=party_legend_patches,\n",
    "#    title=\"Partijen (X-axis)\",\n",
    "#    loc='lower left',\n",
    "#    bbox_to_anchor=(1.0, 0.6)\n",
    "#)\n",
    "\n",
    "# -----------------------------------------------------------\n",
    "# 9) Y-axis & Z-axis formatting\n",
    "# -----------------------------------------------------------\n",
    "#ax.set_yticks(range(len(unique_themas)))\n",
    "#ax.set_yticklabels(unique_themas)\n",
    "ax.set_ylabel('Thema')\n",
    "ax.set_zlabel('Total Subsidie (€)')\n",
    "ax.set_xlabel('Jaar')\n",
    "\n",
    "# Adjust the viewing angle for clarity\n",
    "ax.view_init(elev=20, azim=-60)\n",
    "\n",
    "plt.tight_layout()\n",
    "plt.show()"
   ]
  },
  {
   "attachments": {
    "image.png": {
     "image/png": "[encoded data removed]"
    }
   },
   "cell_type": "markdown",
   "metadata": {},
   "source": [
    "![image.png](attachment:image.png)"
   ]
  },
  {
   "cell_type": "code",
   "execution_count": 16,
   "metadata": {},
   "outputs": [
    {
     "data": {
      "application/vnd.plotly.v1+json": {
       "config": {
        "plotlyServerURL": "https://plot.ly"
       },
       "data": [
        {
         "line": {
          "color": "#1f77b4",
          "width": 12
         },
         "mode": "lines",
         "name": "Bestuur",
         "type": "scatter3d",
         "x": [
          4,
          4,
          null,
          5,
          5,
          null,
          0,
          0,
          null,
          2,
          2,
          null,
          3,
          3,
          null
         ],
         "y": [
          0,
          0,
          null,
          0,
          0,
          null,
          0,
          0,
          null,
          0,
          0,
          null,
          0,
          0,
          null
         ],
         "z": [
          0,
          983359,
          null,
          0,
          100000,
          null,
          0,
          40000,
          null,
          0,
          99509,
          null,
          0,
          1577012,
          null
         ]
        },
        {
         "line": {
          "color": "#ff7f0e",
          "width": 12
         },
         "mode": "lines",
         "name": "Cultuur & Erfgoed",
         "type": "scatter3d",
         "x": [
          4,
          4,
          null,
          5,
          5,
          null,
          0,
          0,
          null,
          1,
          1,
          null,
          2,
          2,
          null,
          3,
          3,
          null
         ],
         "y": [
          1,
          1,
          null,
          1,
          1,
          null,
          1,
          1,
          null,
          1,
          1,
          null,
          1,
          1,
          null,
          1,
          1,
          null
         ],
         "z": [
          0,
          24369743,
          null,
          0,
          23254269,
          null,
          0,
          2008289,
          null,
          0,
          5451912,
          null,
          0,
          6151941,
          null,
          0,
          24186172,
          null
         ]
        },
        {
         "line": {
          "color": "#2ca02c",
          "width": 12
         },
         "mode": "lines",
         "name": "Duurzaamheid",
         "type": "scatter3d",
         "x": [
          4,
          4,
          null,
          5,
          5,
          null,
          0,
          0,
          null,
          1,
          1,
          null,
          2,
          2,
          null,
          3,
          3,
          null
         ],
         "y": [
          2,
          2,
          null,
          2,
          2,
          null,
          2,
          2,
          null,
          2,
          2,
          null,
          2,
          2,
          null,
          2,
          2,
          null
         ],
         "z": [
          0,
          2599722,
          null,
          0,
          884448,
          null,
          0,
          6151740,
          null,
          0,
          1814175,
          null,
          0,
          3013714,
          null,
          0,
          135214043,
          null
         ]
        },
        {
         "line": {
          "color": "#d62728",
          "width": 12
         },
         "mode": "lines",
         "name": "Economie & Innovatie",
         "type": "scatter3d",
         "x": [
          4,
          4,
          null,
          5,
          5,
          null,
          0,
          0,
          null,
          1,
          1,
          null,
          2,
          2,
          null,
          3,
          3,
          null
         ],
         "y": [
          3,
          3,
          null,
          3,
          3,
          null,
          3,
          3,
          null,
          3,
          3,
          null,
          3,
          3,
          null,
          3,
          3,
          null
         ],
         "z": [
          0,
          19650633,
          null,
          0,
          9599149,
          null,
          0,
          10498294,
          null,
          0,
          17635472,
          null,
          0,
          26094098,
          null,
          0,
          31037404,
          null
         ]
        },
        {
         "line": {
          "color": "#9467bd",
          "width": 12
         },
         "mode": "lines",
         "name": "Landbouw & Voedsel",
         "type": "scatter3d",
         "x": [
          4,
          4,
          null,
          5,
          5,
          null,
          0,
          0,
          null,
          1,
          1,
          null,
          2,
          2,
          null,
          3,
          3,
          null
         ],
         "y": [
          4,
          4,
          null,
          4,
          4,
          null,
          4,
          4,
          null,
          4,
          4,
          null,
          4,
          4,
          null,
          4,
          4,
          null
         ],
         "z": [
          0,
          1213695,
          null,
          0,
          861194,
          null,
          0,
          3983603,
          null,
          0,
          3283075,
          null,
          0,
          8360705,
          null,
          0,
          7340305,
          null
         ]
        },
        {
         "line": {
          "color": "#8c564b",
          "width": 12
         },
         "mode": "lines",
         "name": "Mobiliteit",
         "type": "scatter3d",
         "x": [
          4,
          4,
          null,
          5,
          5,
          null,
          6,
          6,
          null,
          0,
          0,
          null,
          1,
          1,
          null,
          2,
          2,
          null,
          3,
          3,
          null
         ],
         "y": [
          5,
          5,
          null,
          5,
          5,
          null,
          5,
          5,
          null,
          5,
          5,
          null,
          5,
          5,
          null,
          5,
          5,
          null,
          5,
          5,
          null
         ],
         "z": [
          0,
          406602634,
          null,
          0,
          8974090,
          null,
          0,
          15000,
          null,
          0,
          29861578,
          null,
          0,
          50574106,
          null,
          0,
          145527837,
          null,
          0,
          297075204,
          null
         ]
        },
        {
         "line": {
          "color": "#e377c2",
          "width": 12
         },
         "mode": "lines",
         "name": "Natuur & Milieu",
         "type": "scatter3d",
         "x": [
          4,
          4,
          null,
          5,
          5,
          null,
          0,
          0,
          null,
          1,
          1,
          null,
          2,
          2,
          null,
          3,
          3,
          null
         ],
         "y": [
          6,
          6,
          null,
          6,
          6,
          null,
          6,
          6,
          null,
          6,
          6,
          null,
          6,
          6,
          null,
          6,
          6,
          null
         ],
         "z": [
          0,
          88034262,
          null,
          0,
          26565329,
          null,
          0,
          9549967,
          null,
          0,
          76566077,
          null,
          0,
          17984019,
          null,
          0,
          19899771,
          null
         ]
        },
        {
         "line": {
          "color": "#17becf",
          "width": 12
         },
         "mode": "lines",
         "name": "Recreatie & Sport",
         "type": "scatter3d",
         "x": [
          4,
          4,
          null,
          5,
          5,
          null,
          6,
          6,
          null,
          0,
          0,
          null,
          1,
          1,
          null,
          2,
          2,
          null,
          3,
          3,
          null
         ],
         "y": [
          7,
          7,
          null,
          7,
          7,
          null,
          7,
          7,
          null,
          7,
          7,
          null,
          7,
          7,
          null,
          7,
          7,
          null,
          7,
          7,
          null
         ],
         "z": [
          0,
          14191207,
          null,
          0,
          7324184,
          null,
          0,
          53565,
          null,
          0,
          2481613,
          null,
          0,
          1237050,
          null,
          0,
          7436904,
          null,
          0,
          21807220,
          null
         ]
        },
        {
         "line": {
          "color": "#7f7f7f",
          "width": 12
         },
         "mode": "lines",
         "name": "Regionale Ontwikkeling",
         "type": "scatter3d",
         "x": [
          4,
          4,
          null,
          5,
          5,
          null,
          3,
          3,
          null
         ],
         "y": [
          8,
          8,
          null,
          8,
          8,
          null,
          8,
          8,
          null
         ],
         "z": [
          0,
          366000,
          null,
          0,
          75000,
          null,
          0,
          637485,
          null
         ]
        },
        {
         "line": {
          "color": "#bcbd22",
          "width": 12
         },
         "mode": "lines",
         "name": "Wonen",
         "type": "scatter3d",
         "x": [
          4,
          4,
          null,
          5,
          5,
          null,
          1,
          1,
          null,
          2,
          2,
          null,
          3,
          3,
          null
         ],
         "y": [
          9,
          9,
          null,
          9,
          9,
          null,
          9,
          9,
          null,
          9,
          9,
          null,
          9,
          9,
          null
         ],
         "z": [
          0,
          8263979,
          null,
          0,
          6741457,
          null,
          0,
          2040000,
          null,
          0,
          20415049,
          null,
          0,
          9721854,
          null
         ]
        }
       ],
       "layout": {
        "height": 900,
        "scene": {
         "xaxis": {
          "tickmode": "array",
          "ticktext": [
           "2019",
           "2020",
           "2021",
           "2022",
           "2023",
           "2024",
           "2025"
          ],
          "tickvals": [
           0,
           1,
           2,
           3,
           4,
           5,
           6
          ],
          "title": {
           "text": "Jaar"
          }
         },
         "yaxis": {
          "tickmode": "array",
          "ticktext": [
           "Bestuur",
           "Cultuur & Erfgoed",
           "Duurzaamheid",
           "Economie & Innovatie",
           "Landbouw & Voedsel",
           "Mobiliteit",
           "Natuur & Milieu",
           "Recreatie & Sport",
           "Regionale Ontwikkeling",
           "Wonen"
          ],
          "tickvals": [
           0,
           1,
           2,
           3,
           4,
           5,
           6,
           7,
           8,
           9
          ],
          "title": {
           "text": ""
          }
         },
         "zaxis": {
          "title": {
           "text": "Totale Subsidie (€)"
          }
         }
        },
        "template": {
         "data": {
          "bar": [
           {
            "error_x": {
             "color": "#2a3f5f"
            },
            "error_y": {
             "color": "#2a3f5f"
            },
            "marker": {
             "line": {
              "color": "#E5ECF6",
              "width": 0.5
             },
             "pattern": {
              "fillmode": "overlay",
              "size": 10,
              "solidity": 0.2
             }
            },
            "type": "bar"
           }
          ],
          "barpolar": [
           {
            "marker": {
             "line": {
              "color": "#E5ECF6",
              "width": 0.5
             },
             "pattern": {
              "fillmode": "overlay",
              "size": 10,
              "solidity": 0.2
             }
            },
            "type": "barpolar"
           }
          ],
          "carpet": [
           {
            "aaxis": {
             "endlinecolor": "#2a3f5f",
             "gridcolor": "white",
             "linecolor": "white",
             "minorgridcolor": "white",
             "startlinecolor": "#2a3f5f"
            },
            "baxis": {
             "endlinecolor": "#2a3f5f",
             "gridcolor": "white",
             "linecolor": "white",
             "minorgridcolor": "white",
             "startlinecolor": "#2a3f5f"
            },
            "type": "carpet"
           }
          ],
          "choropleth": [
           {
            "colorbar": {
             "outlinewidth": 0,
             "ticks": ""
            },
            "type": "choropleth"
           }
          ],
          "contour": [
           {
            "colorbar": {
             "outlinewidth": 0,
             "ticks": ""
            },
            "colorscale": [
             [
              0,
              "#0d0887"
             ],
             [
              0.1111111111111111,
              "#46039f"
             ],
             [
              0.2222222222222222,
              "#7201a8"
             ],
             [
              0.3333333333333333,
              "#9c179e"
             ],
             [
              0.4444444444444444,
              "#bd3786"
             ],
             [
              0.5555555555555556,
              "#d8576b"
             ],
             [
              0.6666666666666666,
              "#ed7953"
             ],
             [
              0.7777777777777778,
              "#fb9f3a"
             ],
             [
              0.8888888888888888,
              "#fdca26"
             ],
             [
              1,
              "#f0f921"
             ]
            ],
            "type": "contour"
           }
          ],
          "contourcarpet": [
           {
            "colorbar": {
             "outlinewidth": 0,
             "ticks": ""
            },
            "type": "contourcarpet"
           }
          ],
          "heatmap": [
           {
            "colorbar": {
             "outlinewidth": 0,
             "ticks": ""
            },
            "colorscale": [
             [
              0,
              "#0d0887"
             ],
             [
              0.1111111111111111,
              "#46039f"
             ],
             [
              0.2222222222222222,
              "#7201a8"
             ],
             [
              0.3333333333333333,
              "#9c179e"
             ],
             [
              0.4444444444444444,
              "#bd3786"
             ],
             [
              0.5555555555555556,
              "#d8576b"
             ],
             [
              0.6666666666666666,
              "#ed7953"
             ],
             [
              0.7777777777777778,
              "#fb9f3a"
             ],
             [
              0.8888888888888888,
              "#fdca26"
             ],
             [
              1,
              "#f0f921"
             ]
            ],
            "type": "heatmap"
           }
          ],
          "heatmapgl": [
           {
            "colorbar": {
             "outlinewidth": 0,
             "ticks": ""
            },
            "colorscale": [
             [
              0,
              "#0d0887"
             ],
             [
              0.1111111111111111,
              "#46039f"
             ],
             [
              0.2222222222222222,
              "#7201a8"
             ],
             [
              0.3333333333333333,
              "#9c179e"
             ],
             [
              0.4444444444444444,
              "#bd3786"
             ],
             [
              0.5555555555555556,
              "#d8576b"
             ],
             [
              0.6666666666666666,
              "#ed7953"
             ],
             [
              0.7777777777777778,
              "#fb9f3a"
             ],
             [
              0.8888888888888888,
              "#fdca26"
             ],
             [
              1,
              "#f0f921"
             ]
            ],
            "type": "heatmapgl"
           }
          ],
          "histogram": [
           {
            "marker": {
             "pattern": {
              "fillmode": "overlay",
              "size": 10,
              "solidity": 0.2
             }
            },
            "type": "histogram"
           }
          ],
          "histogram2d": [
           {
            "colorbar": {
             "outlinewidth": 0,
             "ticks": ""
            },
            "colorscale": [
             [
              0,
              "#0d0887"
             ],
             [
              0.1111111111111111,
              "#46039f"
             ],
             [
              0.2222222222222222,
              "#7201a8"
             ],
             [
              0.3333333333333333,
              "#9c179e"
             ],
             [
              0.4444444444444444,
              "#bd3786"
             ],
             [
              0.5555555555555556,
              "#d8576b"
             ],
             [
              0.6666666666666666,
              "#ed7953"
             ],
             [
              0.7777777777777778,
              "#fb9f3a"
             ],
             [
              0.8888888888888888,
              "#fdca26"
             ],
             [
              1,
              "#f0f921"
             ]
            ],
            "type": "histogram2d"
           }
          ],
          "histogram2dcontour": [
           {
            "colorbar": {
             "outlinewidth": 0,
             "ticks": ""
            },
            "colorscale": [
             [
              0,
              "#0d0887"
             ],
             [
              0.1111111111111111,
              "#46039f"
             ],
             [
              0.2222222222222222,
              "#7201a8"
             ],
             [
              0.3333333333333333,
              "#9c179e"
             ],
             [
              0.4444444444444444,
              "#bd3786"
             ],
             [
              0.5555555555555556,
              "#d8576b"
             ],
             [
              0.6666666666666666,
              "#ed7953"
             ],
             [
              0.7777777777777778,
              "#fb9f3a"
             ],
             [
              0.8888888888888888,
              "#fdca26"
             ],
             [
              1,
              "#f0f921"
             ]
            ],
            "type": "histogram2dcontour"
           }
          ],
          "mesh3d": [
           {
            "colorbar": {
             "outlinewidth": 0,
             "ticks": ""
            },
            "type": "mesh3d"
           }
          ],
          "parcoords": [
           {
            "line": {
             "colorbar": {
              "outlinewidth": 0,
              "ticks": ""
             }
            },
            "type": "parcoords"
           }
          ],
          "pie": [
           {
            "automargin": true,
            "type": "pie"
           }
          ],
          "scatter": [
           {
            "fillpattern": {
             "fillmode": "overlay",
             "size": 10,
             "solidity": 0.2
            },
            "type": "scatter"
           }
          ],
          "scatter3d": [
           {
            "line": {
             "colorbar": {
              "outlinewidth": 0,
              "ticks": ""
             }
            },
            "marker": {
             "colorbar": {
              "outlinewidth": 0,
              "ticks": ""
             }
            },
            "type": "scatter3d"
           }
          ],
          "scattercarpet": [
           {
            "marker": {
             "colorbar": {
              "outlinewidth": 0,
              "ticks": ""
             }
            },
            "type": "scattercarpet"
           }
          ],
          "scattergeo": [
           {
            "marker": {
             "colorbar": {
              "outlinewidth": 0,
              "ticks": ""
             }
            },
            "type": "scattergeo"
           }
          ],
          "scattergl": [
           {
            "marker": {
             "colorbar": {
              "outlinewidth": 0,
              "ticks": ""
             }
            },
            "type": "scattergl"
           }
          ],
          "scattermapbox": [
           {
            "marker": {
             "colorbar": {
              "outlinewidth": 0,
              "ticks": ""
             }
            },
            "type": "scattermapbox"
           }
          ],
          "scatterpolar": [
           {
            "marker": {
             "colorbar": {
              "outlinewidth": 0,
              "ticks": ""
             }
            },
            "type": "scatterpolar"
           }
          ],
          "scatterpolargl": [
           {
            "marker": {
             "colorbar": {
              "outlinewidth": 0,
              "ticks": ""
             }
            },
            "type": "scatterpolargl"
           }
          ],
          "scatterternary": [
           {
            "marker": {
             "colorbar": {
              "outlinewidth": 0,
              "ticks": ""
             }
            },
            "type": "scatterternary"
           }
          ],
          "surface": [
           {
            "colorbar": {
             "outlinewidth": 0,
             "ticks": ""
            },
            "colorscale": [
             [
              0,
              "#0d0887"
             ],
             [
              0.1111111111111111,
              "#46039f"
             ],
             [
              0.2222222222222222,
              "#7201a8"
             ],
             [
              0.3333333333333333,
              "#9c179e"
             ],
             [
              0.4444444444444444,
              "#bd3786"
             ],
             [
              0.5555555555555556,
              "#d8576b"
             ],
             [
              0.6666666666666666,
              "#ed7953"
             ],
             [
              0.7777777777777778,
              "#fb9f3a"
             ],
             [
              0.8888888888888888,
              "#fdca26"
             ],
             [
              1,
              "#f0f921"
             ]
            ],
            "type": "surface"
           }
          ],
          "table": [
           {
            "cells": {
             "fill": {
              "color": "#EBF0F8"
             },
             "line": {
              "color": "white"
             }
            },
            "header": {
             "fill": {
              "color": "#C8D4E3"
             },
             "line": {
              "color": "white"
             }
            },
            "type": "table"
           }
          ]
         },
         "layout": {
          "annotationdefaults": {
           "arrowcolor": "#2a3f5f",
           "arrowhead": 0,
           "arrowwidth": 1
          },
          "autotypenumbers": "strict",
          "coloraxis": {
           "colorbar": {
            "outlinewidth": 0,
            "ticks": ""
           }
          },
          "colorscale": {
           "diverging": [
            [
             0,
             "#8e0152"
            ],
            [
             0.1,
             "#c51b7d"
            ],
            [
             0.2,
             "#de77ae"
            ],
            [
             0.3,
             "#f1b6da"
            ],
            [
             0.4,
             "#fde0ef"
            ],
            [
             0.5,
             "#f7f7f7"
            ],
            [
             0.6,
             "#e6f5d0"
            ],
            [
             0.7,
             "#b8e186"
            ],
            [
             0.8,
             "#7fbc41"
            ],
            [
             0.9,
             "#4d9221"
            ],
            [
             1,
             "#276419"
            ]
           ],
           "sequential": [
            [
             0,
             "#0d0887"
            ],
            [
             0.1111111111111111,
             "#46039f"
            ],
            [
             0.2222222222222222,
             "#7201a8"
            ],
            [
             0.3333333333333333,
             "#9c179e"
            ],
            [
             0.4444444444444444,
             "#bd3786"
            ],
            [
             0.5555555555555556,
             "#d8576b"
            ],
            [
             0.6666666666666666,
             "#ed7953"
            ],
            [
             0.7777777777777778,
             "#fb9f3a"
            ],
            [
             0.8888888888888888,
             "#fdca26"
            ],
            [
             1,
             "#f0f921"
            ]
           ],
           "sequentialminus": [
            [
             0,
             "#0d0887"
            ],
            [
             0.1111111111111111,
             "#46039f"
            ],
            [
             0.2222222222222222,
             "#7201a8"
            ],
            [
             0.3333333333333333,
             "#9c179e"
            ],
            [
             0.4444444444444444,
             "#bd3786"
            ],
            [
             0.5555555555555556,
             "#d8576b"
            ],
            [
             0.6666666666666666,
             "#ed7953"
            ],
            [
             0.7777777777777778,
             "#fb9f3a"
            ],
            [
             0.8888888888888888,
             "#fdca26"
            ],
            [
             1,
             "#f0f921"
            ]
           ]
          },
          "colorway": [
           "#636efa",
           "#EF553B",
           "#00cc96",
           "#ab63fa",
           "#FFA15A",
           "#19d3f3",
           "#FF6692",
           "#B6E880",
           "#FF97FF",
           "#FECB52"
          ],
          "font": {
           "color": "#2a3f5f"
          },
          "geo": {
           "bgcolor": "white",
           "lakecolor": "white",
           "landcolor": "#E5ECF6",
           "showlakes": true,
           "showland": true,
           "subunitcolor": "white"
          },
          "hoverlabel": {
           "align": "left"
          },
          "hovermode": "closest",
          "mapbox": {
           "style": "light"
          },
          "paper_bgcolor": "white",
          "plot_bgcolor": "#E5ECF6",
          "polar": {
           "angularaxis": {
            "gridcolor": "white",
            "linecolor": "white",
            "ticks": ""
           },
           "bgcolor": "#E5ECF6",
           "radialaxis": {
            "gridcolor": "white",
            "linecolor": "white",
            "ticks": ""
           }
          },
          "scene": {
           "xaxis": {
            "backgroundcolor": "#E5ECF6",
            "gridcolor": "white",
            "gridwidth": 2,
            "linecolor": "white",
            "showbackground": true,
            "ticks": "",
            "zerolinecolor": "white"
           },
           "yaxis": {
            "backgroundcolor": "#E5ECF6",
            "gridcolor": "white",
            "gridwidth": 2,
            "linecolor": "white",
            "showbackground": true,
            "ticks": "",
            "zerolinecolor": "white"
           },
           "zaxis": {
            "backgroundcolor": "#E5ECF6",
            "gridcolor": "white",
            "gridwidth": 2,
            "linecolor": "white",
            "showbackground": true,
            "ticks": "",
            "zerolinecolor": "white"
           }
          },
          "shapedefaults": {
           "line": {
            "color": "#2a3f5f"
           }
          },
          "ternary": {
           "aaxis": {
            "gridcolor": "white",
            "linecolor": "white",
            "ticks": ""
           },
           "baxis": {
            "gridcolor": "white",
            "linecolor": "white",
            "ticks": ""
           },
           "bgcolor": "#E5ECF6",
           "caxis": {
            "gridcolor": "white",
            "linecolor": "white",
            "ticks": ""
           }
          },
          "title": {
           "x": 0.05
          },
          "xaxis": {
           "automargin": true,
           "gridcolor": "white",
           "linecolor": "white",
           "ticks": "",
           "title": {
            "standoff": 15
           },
           "zerolinecolor": "white",
           "zerolinewidth": 2
          },
          "yaxis": {
           "automargin": true,
           "gridcolor": "white",
           "linecolor": "white",
           "ticks": "",
           "title": {
            "standoff": 15
           },
           "zerolinecolor": "white",
           "zerolinewidth": 2
          }
         }
        },
        "title": {
         "text": "3D Bar (Line) Chart in Plotly"
        },
        "width": 900
       }
      }
     },
     "metadata": {},
     "output_type": "display_data"
    }
   ],
   "source": [
    "unique_years = sorted(df['jaar'].unique())\n",
    "year_to_index = {year: i for i, year in enumerate(unique_years)}\n",
    "\n",
    "unique_themas = sorted(df['Thema'].unique())\n",
    "thema_to_index = {th: i for i, th in enumerate(unique_themas)}\n",
    "\n",
    "# ------------------------------------------------------------------\n",
    "# 5) We create one 3D \"line\" per row, from z=0 to z=total_subsidy\n",
    "# ------------------------------------------------------------------\n",
    "import plotly.graph_objects as go\n",
    "\n",
    "fig = go.Figure()\n",
    "\n",
    "# We'll group data by Thema so we can have each Thema as one trace\n",
    "# (That way each Thema has a distinct color & appears in the legend)\n",
    "for thema in unique_themas:\n",
    "    # Filter rows for this Thema\n",
    "    df_thema = df[df['Thema'] == thema]\n",
    "    \n",
    "    # Build the x, y, z lists with \"None\" separating each bar\n",
    "    # Each \"bar\" is effectively a vertical line\n",
    "    x_data, y_data, z_data = [], [], []\n",
    "    for _, row in df_thema.iterrows():\n",
    "        x_val = year_to_index[row['jaar']]\n",
    "        y_val = thema_to_index[row['Thema']]\n",
    "        z_val = row['total_subsidy']\n",
    "\n",
    "        # Start (x,y,z=0), end (x,y,z=total_subsidy), then None to break line\n",
    "        x_data.extend([x_val, x_val, None])\n",
    "        y_data.extend([y_val, y_val, None])\n",
    "        z_data.extend([0,    z_val, None])\n",
    "    \n",
    "    # Add a 3D scatter trace with mode='lines'\n",
    "    fig.add_trace(go.Scatter3d(\n",
    "        x=x_data,\n",
    "        y=y_data,\n",
    "        z=z_data,\n",
    "        mode='lines',\n",
    "        line=dict(color=get_theme_color(thema), width=12),\n",
    "        name=thema\n",
    "    ))\n",
    "\n",
    "# ---------------------------------------------------\n",
    "# 6) Format axes for discrete categories\n",
    "# ---------------------------------------------------\n",
    "fig.update_layout(\n",
    "    scene=dict(\n",
    "        xaxis=dict(\n",
    "            title='Jaar',\n",
    "            tickmode='array',\n",
    "            tickvals=list(range(len(unique_years))),\n",
    "            ticktext=[str(yr) for yr in unique_years]\n",
    "        ),\n",
    "        yaxis=dict(\n",
    "            title='',\n",
    "            tickmode='array',\n",
    "            tickvals=list(range(len(unique_themas))),\n",
    "            ticktext=unique_themas\n",
    "        ),\n",
    "        zaxis=dict(title='Totale Subsidie (€)')\n",
    "    ),\n",
    "    width=900, \n",
    "    height=900,\n",
    "    title=\"3D Bar (Line) Chart in Plotly\"\n",
    ")\n",
    "\n",
    "fig.show()"
   ]
  }
 ],
 "metadata": {
  "kernelspec": {
   "display_name": "base",
   "language": "python",
   "name": "python3"
  },
  "language_info": {
   "codemirror_mode": {
    "name": "ipython",
    "version": 3
   },
   "file_extension": ".py",
   "mimetype": "text/x-python",
   "name": "python",
   "nbconvert_exporter": "python",
   "pygments_lexer": "ipython3",
   "version": "3.12.7"
  }
 },
 "nbformat": 4,
 "nbformat_minor": 2
}
